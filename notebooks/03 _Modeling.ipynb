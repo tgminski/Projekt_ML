{
 "cells": [
  {
   "cell_type": "markdown",
   "id": "a51d97ab",
   "metadata": {},
   "source": [
    "# Projekt ML.\n",
    "\n",
    "Do analizy przyjęto dane ze zbiotu 'cars.csv'\n",
    "\n",
    "Zestawy danych przygotowano w części \"Projekt ML, przygotowanie danych\"\n",
    "\n",
    "## Cel analizy: Od czego zależy bardziej ekonomiczne zużycie paliwa? Czy da się przewidzieć zużycie paliwa na podstawie danych ze zbioru?\n",
    "\n",
    "Uczenie maszynowe będzie wykorzystywać regresję.\n",
    "\n",
    "Dane do przetwarzania przygotowano z zamiarem pokazania wpływu jakości danych na efekty uczenia maszynowego.\n",
    "\n",
    "Przygotowane zbiory danych:\n",
    "\n",
    "Zbiór 1. Dane kategoryczne zostaną potraktowane jako liczbowe, kolumna 'names' nie bierze udziału w ML\n",
    "\n",
    "Zbiór 2. Dane kategoryczne 'origin' rozdzielone (dummies), reszta danych jako dane liczbowe, kolumna 'names' nie bierze udziału w ML\n",
    "\n",
    "Zbiór 3. Dane kategoryczne 'origin' i 'displacement' rozdzielone (dummies), reszta danych jako dane liczbowe, kolumna 'names' nie bierze udziału w ML\n",
    "\n",
    "Zbiór 4. Dane kategoryczne 'origin' i 'displacement' rozdzielone (dummies), reszta danych jako dane liczbowe, kolumna 'names' zostaje rozpisana na słownik i bierze udział w ML  (taka namiastka LLM, to jest dobry moment na uśmiech)\n",
    "\n",
    "Uczenie maszynowe z wykorzystaniem algorytmów:\n",
    "\n",
    "* sklearn: LinearRegression\n",
    "\n",
    "* sklearn: KNeighborsRegressor\n",
    "\n",
    "W celu pokazania jak radzą sobie inne algorytmy ML pokazano parametry uczenia dla RandomForestRegressor oraz xgboost. Chodzi o pokazanie punktu odniesienia.\n",
    "\n",
    "\n",
    "Hiperparametry algorytmów uczenia maszynowego nie są optymalizowane, przyjęto wartiości \"przyzwoite\"\n",
    "\n",
    "W celu pozostawienia pola do popisu ocena uczenia realizowana jest metodą .score()"
   ]
  },
  {
   "cell_type": "code",
   "execution_count": 28,
   "id": "0a0e3a76",
   "metadata": {},
   "outputs": [],
   "source": [
    "# import potrzebnych bibliotek\n",
    "import numpy as np\n",
    "import pandas as pd\n",
    "import matplotlib.pyplot as plt\n",
    "import seaborn as sns\n",
    "\n",
    "from sklearn.model_selection import train_test_split, GridSearchCV, KFold, cross_val_score, RandomizedSearchCV\n",
    "from sklearn.preprocessing import StandardScaler\n",
    "from sklearn.metrics import mean_absolute_error, mean_squared_error, r2_score\n",
    "from scipy.stats import randint\n",
    "\n",
    "from sklearn.linear_model import LinearRegression\n",
    "from sklearn.neighbors import KNeighborsRegressor\n",
    "from sklearn.ensemble import RandomForestRegressor\n",
    "import xgboost as xg\n"
   ]
  },
  {
   "cell_type": "code",
   "execution_count": 8,
   "id": "fb185805",
   "metadata": {},
   "outputs": [],
   "source": [
    "# przygotowanie zestawienia zbiorów\n",
    "data_file_names = [ '../data/cars_4_ML_no_dummy_cleared.csv', '../data/cars_4_ML_dummy_origin_cleared.csv',\n",
    "              '../data/cars_4_ML_dummy_all_cleared.csv', '../data/cars_4_ML_dummy_all_LLM_cleared.csv']\n",
    "data_names = [ 'num', 'num_cat_origin', 'num_cat_all', 'num_cat_all_LLM' ]"
   ]
  },
  {
   "cell_type": "code",
   "execution_count": 9,
   "id": "1a69561b",
   "metadata": {},
   "outputs": [],
   "source": [
    "# przygotowanie zestawienia modeli\n",
    "model_lin = LinearRegression()\n",
    "model_knn = KNeighborsRegressor(n_neighbors=5)\n",
    "model_rf = RandomForestRegressor(n_estimators=100, random_state=0, n_jobs=-1)\n",
    "model_xgb = xg.XGBRegressor(objective ='reg:linear', n_estimators = 100, seed = 0)\n",
    "\n",
    "models = [ model_lin, model_knn, model_rf, model_xgb ]\n",
    "models_names = [ 'model_lin', 'model_knn', 'model_rf', 'model_xgb' ]"
   ]
  },
  {
   "cell_type": "code",
   "execution_count": 10,
   "id": "48781fb6",
   "metadata": {},
   "outputs": [
    {
     "name": "stderr",
     "output_type": "stream",
     "text": [
      "c:\\Program Files\\Python313\\Lib\\site-packages\\xgboost\\training.py:183: UserWarning: [21:41:46] WARNING: C:\\actions-runner\\_work\\xgboost\\xgboost\\src\\objective\\regression_obj.cu:250: reg:linear is now deprecated in favor of reg:squarederror.\n",
      "  bst.update(dtrain, iteration=i, fobj=obj)\n",
      "c:\\Program Files\\Python313\\Lib\\site-packages\\xgboost\\training.py:183: UserWarning: [21:41:46] WARNING: C:\\actions-runner\\_work\\xgboost\\xgboost\\src\\objective\\regression_obj.cu:250: reg:linear is now deprecated in favor of reg:squarederror.\n",
      "  bst.update(dtrain, iteration=i, fobj=obj)\n",
      "c:\\Program Files\\Python313\\Lib\\site-packages\\xgboost\\training.py:183: UserWarning: [21:41:47] WARNING: C:\\actions-runner\\_work\\xgboost\\xgboost\\src\\objective\\regression_obj.cu:250: reg:linear is now deprecated in favor of reg:squarederror.\n",
      "  bst.update(dtrain, iteration=i, fobj=obj)\n"
     ]
    },
    {
     "name": "stdout",
     "output_type": "stream",
     "text": [
      "          data_name model_name score_train score_test\n",
      "0               num  model_lin    0.832622   0.828823\n",
      "1               num  model_knn     0.89511   0.870602\n",
      "2               num   model_rf    0.980802   0.909116\n",
      "3               num  model_xgb    0.999989   0.908028\n",
      "4    num_cat_origin  model_lin    0.876747   0.848826\n",
      "5    num_cat_origin  model_knn    0.927059   0.893803\n",
      "6    num_cat_origin   model_rf      0.9869   0.918743\n",
      "7    num_cat_origin  model_xgb    0.999992   0.908184\n",
      "8       num_cat_all  model_lin    0.886706   0.820164\n",
      "9       num_cat_all  model_knn    0.929549    0.85214\n",
      "10      num_cat_all   model_rf    0.986673   0.893801\n",
      "11      num_cat_all  model_xgb    0.999994   0.893935\n",
      "12  num_cat_all_LLM  model_lin    0.982354   0.772834\n",
      "13  num_cat_all_LLM  model_knn    0.793263   0.669914\n",
      "14  num_cat_all_LLM   model_rf      0.9875   0.888734\n",
      "15  num_cat_all_LLM  model_xgb    0.999681   0.870612\n"
     ]
    },
    {
     "name": "stderr",
     "output_type": "stream",
     "text": [
      "c:\\Program Files\\Python313\\Lib\\site-packages\\xgboost\\training.py:183: UserWarning: [21:41:51] WARNING: C:\\actions-runner\\_work\\xgboost\\xgboost\\src\\objective\\regression_obj.cu:250: reg:linear is now deprecated in favor of reg:squarederror.\n",
      "  bst.update(dtrain, iteration=i, fobj=obj)\n"
     ]
    }
   ],
   "source": [
    "results = pd.DataFrame(columns= ['data_name', 'model_name', 'score_train', 'score_test'])\n",
    "for data in data_names:\n",
    "    df = pd.read_csv(data_file_names[data_names.index(data)])\n",
    "    X_no_scaler = df.drop(columns=['name', 'mpg']).values\n",
    "    scaler_x = StandardScaler()\n",
    "    X = scaler_x.fit_transform(X_no_scaler)\n",
    "    y_no_scaler = df['mpg'].values.reshape((-1,1))\n",
    "    scaler_y = StandardScaler()\n",
    "    y = scaler_y.fit_transform(y_no_scaler).reshape((-1,))\n",
    "    \n",
    "    X_train, X_test, y_train, y_test = train_test_split(X, y, test_size=0.2, random_state=0)\n",
    "    \n",
    "    for model in models:\n",
    "        model_name = models_names[models.index(model)]\n",
    "        model.fit(X_train, y_train)\n",
    "        \n",
    "        score_train = model.score(X_train, y_train)\n",
    "        score_test = model.score(X_test, y_test)\n",
    "\n",
    "        index = len(results)\n",
    "        results.loc[index,'data_name'] = data\n",
    "        results.loc[index,'model_name'] = model_name\n",
    "        results.loc[index,'score_train'] = score_train\n",
    "        results.loc[index,'score_test'] = score_test\n",
    "        \n",
    "        \n",
    "    \n",
    "print(results)"
   ]
  },
  {
   "cell_type": "code",
   "execution_count": 11,
   "id": "e752ee46",
   "metadata": {},
   "outputs": [
    {
     "name": "stdout",
     "output_type": "stream",
     "text": [
      "  data_name model_name score_train score_test\n",
      "0       num  model_lin    0.832622   0.828823\n",
      "1       num  model_knn     0.89511   0.870602\n",
      "2       num   model_rf    0.980802   0.909116\n",
      "3       num  model_xgb    0.999989   0.908028\n",
      "        data_name model_name score_train score_test\n",
      "4  num_cat_origin  model_lin    0.876747   0.848826\n",
      "5  num_cat_origin  model_knn    0.927059   0.893803\n",
      "6  num_cat_origin   model_rf      0.9869   0.918743\n",
      "7  num_cat_origin  model_xgb    0.999992   0.908184\n",
      "      data_name model_name score_train score_test\n",
      "8   num_cat_all  model_lin    0.886706   0.820164\n",
      "9   num_cat_all  model_knn    0.929549    0.85214\n",
      "10  num_cat_all   model_rf    0.986673   0.893801\n",
      "11  num_cat_all  model_xgb    0.999994   0.893935\n",
      "          data_name model_name score_train score_test\n",
      "12  num_cat_all_LLM  model_lin    0.982354   0.772834\n",
      "13  num_cat_all_LLM  model_knn    0.793263   0.669914\n",
      "14  num_cat_all_LLM   model_rf      0.9875   0.888734\n",
      "15  num_cat_all_LLM  model_xgb    0.999681   0.870612\n"
     ]
    }
   ],
   "source": [
    "# wyniki dla danych\n",
    "for data in data_names:\n",
    "    print(results[ results['data_name']==data] )"
   ]
  },
  {
   "cell_type": "code",
   "execution_count": 12,
   "id": "14167aa2",
   "metadata": {},
   "outputs": [
    {
     "name": "stdout",
     "output_type": "stream",
     "text": [
      "          data_name model_name score_train score_test\n",
      "0               num  model_lin    0.832622   0.828823\n",
      "4    num_cat_origin  model_lin    0.876747   0.848826\n",
      "8       num_cat_all  model_lin    0.886706   0.820164\n",
      "12  num_cat_all_LLM  model_lin    0.982354   0.772834\n",
      "          data_name model_name score_train score_test\n",
      "1               num  model_knn     0.89511   0.870602\n",
      "5    num_cat_origin  model_knn    0.927059   0.893803\n",
      "9       num_cat_all  model_knn    0.929549    0.85214\n",
      "13  num_cat_all_LLM  model_knn    0.793263   0.669914\n",
      "          data_name model_name score_train score_test\n",
      "2               num   model_rf    0.980802   0.909116\n",
      "6    num_cat_origin   model_rf      0.9869   0.918743\n",
      "10      num_cat_all   model_rf    0.986673   0.893801\n",
      "14  num_cat_all_LLM   model_rf      0.9875   0.888734\n",
      "          data_name model_name score_train score_test\n",
      "3               num  model_xgb    0.999989   0.908028\n",
      "7    num_cat_origin  model_xgb    0.999992   0.908184\n",
      "11      num_cat_all  model_xgb    0.999994   0.893935\n",
      "15  num_cat_all_LLM  model_xgb    0.999681   0.870612\n"
     ]
    }
   ],
   "source": [
    "# wyniki dla modeli\n",
    "for model_n in models_names:\n",
    "    print(results[ results['model_name']==model_n] )"
   ]
  },
  {
   "cell_type": "code",
   "execution_count": 13,
   "id": "6f04a1fe",
   "metadata": {},
   "outputs": [
    {
     "name": "stdout",
     "output_type": "stream",
     "text": [
      "Najlepsze wyniki dla danych testowych:\n",
      "          data_name model_name score_train score_test\n",
      "6    num_cat_origin   model_rf      0.9869   0.918743\n",
      "2               num   model_rf    0.980802   0.909116\n",
      "7    num_cat_origin  model_xgb    0.999992   0.908184\n",
      "3               num  model_xgb    0.999989   0.908028\n",
      "11      num_cat_all  model_xgb    0.999994   0.893935\n",
      "5    num_cat_origin  model_knn    0.927059   0.893803\n",
      "10      num_cat_all   model_rf    0.986673   0.893801\n",
      "14  num_cat_all_LLM   model_rf      0.9875   0.888734\n",
      "15  num_cat_all_LLM  model_xgb    0.999681   0.870612\n",
      "1               num  model_knn     0.89511   0.870602\n",
      "9       num_cat_all  model_knn    0.929549    0.85214\n",
      "4    num_cat_origin  model_lin    0.876747   0.848826\n",
      "0               num  model_lin    0.832622   0.828823\n",
      "8       num_cat_all  model_lin    0.886706   0.820164\n",
      "12  num_cat_all_LLM  model_lin    0.982354   0.772834\n",
      "13  num_cat_all_LLM  model_knn    0.793263   0.669914\n"
     ]
    }
   ],
   "source": [
    "# najlepsze wyniki dla danych testowych\n",
    "print('Najlepsze wyniki dla danych testowych:')\n",
    "print(results.sort_values(by=['score_test'], ascending=False))"
   ]
  },
  {
   "cell_type": "code",
   "execution_count": 14,
   "id": "9ce496a1",
   "metadata": {},
   "outputs": [
    {
     "data": {
      "text/plain": [
       "<Axes: xlabel='score_train', ylabel='score_test'>"
      ]
     },
     "execution_count": 14,
     "metadata": {},
     "output_type": "execute_result"
    },
    {
     "data": {
      "image/png": "[encoded data removed]",
      "text/plain": [
       "<Figure size 640x480 with 1 Axes>"
      ]
     },
     "metadata": {},
     "output_type": "display_data"
    }
   ],
   "source": [
    "sns.scatterplot(data=results, x='score_train', y='score_test', hue='data_name', style='model_name')"
   ]
  },
  {
   "cell_type": "markdown",
   "id": "5b71bdd6",
   "metadata": {},
   "source": [
    "Metody LinearRegression oraz KNeighborsRegressor dają całkiem niezłe wyniki. Wyniki są mocno zależne od danych, które są przedstawiane do uczenia i testowania."
   ]
  },
  {
   "cell_type": "markdown",
   "id": "101d5f76",
   "metadata": {},
   "source": [
    "Przypominam, że metody RandomForestRegressor oraz xgboost tylko jako punkty odniesienia.\n",
    "\n",
    "Pomysły na ulepszenia:\n",
    "\n",
    "* przegląd danych pod kątem rozkładów, typów relacji, może potraktować logarytmem, itd.\n",
    "\n",
    "* pomysły na traktowanie kategorii w danych\n",
    "\n",
    "* pomysły na nowe features (zmienne na podstawie których ML określa wynik)\n",
    "\n",
    "* inne miary dopasowania modeli, może sposoby uczenia, ...\n",
    "\n",
    "* inny sposób normalizacji danych\n",
    "\n",
    "* może inaczej przygotować dane, inny sposób określenia outliers, ..."
   ]
  },
  {
   "cell_type": "code",
   "execution_count": 37,
   "id": "b31daf15",
   "metadata": {},
   "outputs": [
    {
     "data": {
      "application/vnd.microsoft.datawrangler.viewer.v0+json": {
       "columns": [
        {
         "name": "index",
         "rawType": "int64",
         "type": "integer"
        },
        {
         "name": "data",
         "rawType": "object",
         "type": "string"
        },
        {
         "name": "model",
         "rawType": "object",
         "type": "string"
        },
        {
         "name": "MAE",
         "rawType": "float64",
         "type": "float"
        },
        {
         "name": "RMSE",
         "rawType": "float64",
         "type": "float"
        },
        {
         "name": "R2",
         "rawType": "float64",
         "type": "float"
        },
        {
         "name": "CV_RMSE_mean",
         "rawType": "float64",
         "type": "float"
        },
        {
         "name": "CV_RMSE_std",
         "rawType": "float64",
         "type": "float"
        }
       ],
       "ref": "41c0e20d-c96a-4d26-8c78-a49f41691db2",
       "rows": [
        [
         "0",
         "num",
         "model_lin",
         "23.49637351563313",
         "24.517907419727898",
         "-8.883930828842042",
         "3.499793599159868",
         "0.43655620348575386"
        ],
        [
         "1",
         "num",
         "model_knn",
         "23.485858310046297",
         "24.55886587605248",
         "-8.916981666959233",
         "4.210116420066798",
         "0.29461020941799243"
        ],
        [
         "2",
         "num",
         "model_rf",
         "23.519045860034574",
         "24.517000353426056",
         "-8.883199509109964",
         "2.2656012224680966",
         "0.22509379206635158"
        ],
        [
         "3",
         "num",
         "model_xgb",
         "23.50889521464867",
         "24.501036397797925",
         "-8.870333041801402",
         "2.3733119854636127",
         "0.29358952559979123"
        ],
        [
         "4",
         "num_cat_origin",
         "model_lin",
         "23.49637351563313",
         "24.517907419727898",
         "-8.883930828842042",
         "3.499793599159868",
         "0.43655620348575386"
        ],
        [
         "5",
         "num_cat_origin",
         "model_knn",
         "23.485858310046297",
         "24.55886587605248",
         "-8.916981666959233",
         "4.210116420066798",
         "0.29461020941799243"
        ],
        [
         "6",
         "num_cat_origin",
         "model_rf",
         "23.519045860034574",
         "24.517000353426056",
         "-8.883199509109964",
         "2.2656012224680966",
         "0.2250937920663516"
        ],
        [
         "7",
         "num_cat_origin",
         "model_xgb",
         "23.50889521464867",
         "24.501036397797925",
         "-8.870333041801402",
         "2.3733119854636127",
         "0.29358952559979123"
        ],
        [
         "8",
         "num_cat_all",
         "model_lin",
         "23.49637351563313",
         "24.517907419727898",
         "-8.883930828842042",
         "3.499793599159868",
         "0.43655620348575386"
        ],
        [
         "9",
         "num_cat_all",
         "model_knn",
         "23.485858310046297",
         "24.55886587605248",
         "-8.916981666959233",
         "4.210116420066798",
         "0.29461020941799243"
        ],
        [
         "10",
         "num_cat_all",
         "model_rf",
         "23.519045860034574",
         "24.517000353426056",
         "-8.883199509109964",
         "2.2656012224680966",
         "0.22509379206635147"
        ],
        [
         "11",
         "num_cat_all",
         "model_xgb",
         "23.50889521464867",
         "24.501036397797925",
         "-8.870333041801402",
         "2.3733119854636127",
         "0.29358952559979123"
        ],
        [
         "12",
         "num_cat_all_LLM",
         "model_lin",
         "23.49637351563313",
         "24.517907419727898",
         "-8.883930828842042",
         "3.499793599159868",
         "0.43655620348575386"
        ],
        [
         "13",
         "num_cat_all_LLM",
         "model_knn",
         "23.485858310046297",
         "24.55886587605248",
         "-8.916981666959233",
         "4.210116420066798",
         "0.29461020941799243"
        ],
        [
         "14",
         "num_cat_all_LLM",
         "model_rf",
         "23.51904586003458",
         "24.517000353426056",
         "-8.883199509109964",
         "2.2656012224680966",
         "0.22509379206635188"
        ],
        [
         "15",
         "num_cat_all_LLM",
         "model_xgb",
         "23.50889521464867",
         "24.501036397797925",
         "-8.870333041801402",
         "2.3733119854636127",
         "0.29358952559979123"
        ]
       ],
       "shape": {
        "columns": 7,
        "rows": 16
       }
      },
      "text/html": [
       "<div>\n",
       "<style scoped>\n",
       "    .dataframe tbody tr th:only-of-type {\n",
       "        vertical-align: middle;\n",
       "    }\n",
       "\n",
       "    .dataframe tbody tr th {\n",
       "        vertical-align: top;\n",
       "    }\n",
       "\n",
       "    .dataframe thead th {\n",
       "        text-align: right;\n",
       "    }\n",
       "</style>\n",
       "<table border=\"1\" class=\"dataframe\">\n",
       "  <thead>\n",
       "    <tr style=\"text-align: right;\">\n",
       "      <th></th>\n",
       "      <th>data</th>\n",
       "      <th>model</th>\n",
       "      <th>MAE</th>\n",
       "      <th>RMSE</th>\n",
       "      <th>R2</th>\n",
       "      <th>CV_RMSE_mean</th>\n",
       "      <th>CV_RMSE_std</th>\n",
       "    </tr>\n",
       "  </thead>\n",
       "  <tbody>\n",
       "    <tr>\n",
       "      <th>0</th>\n",
       "      <td>num</td>\n",
       "      <td>model_lin</td>\n",
       "      <td>23.496374</td>\n",
       "      <td>24.517907</td>\n",
       "      <td>-8.883931</td>\n",
       "      <td>3.499794</td>\n",
       "      <td>0.436556</td>\n",
       "    </tr>\n",
       "    <tr>\n",
       "      <th>1</th>\n",
       "      <td>num</td>\n",
       "      <td>model_knn</td>\n",
       "      <td>23.485858</td>\n",
       "      <td>24.558866</td>\n",
       "      <td>-8.916982</td>\n",
       "      <td>4.210116</td>\n",
       "      <td>0.294610</td>\n",
       "    </tr>\n",
       "    <tr>\n",
       "      <th>2</th>\n",
       "      <td>num</td>\n",
       "      <td>model_rf</td>\n",
       "      <td>23.519046</td>\n",
       "      <td>24.517000</td>\n",
       "      <td>-8.883200</td>\n",
       "      <td>2.265601</td>\n",
       "      <td>0.225094</td>\n",
       "    </tr>\n",
       "    <tr>\n",
       "      <th>3</th>\n",
       "      <td>num</td>\n",
       "      <td>model_xgb</td>\n",
       "      <td>23.508895</td>\n",
       "      <td>24.501036</td>\n",
       "      <td>-8.870333</td>\n",
       "      <td>2.373312</td>\n",
       "      <td>0.293590</td>\n",
       "    </tr>\n",
       "    <tr>\n",
       "      <th>4</th>\n",
       "      <td>num_cat_origin</td>\n",
       "      <td>model_lin</td>\n",
       "      <td>23.496374</td>\n",
       "      <td>24.517907</td>\n",
       "      <td>-8.883931</td>\n",
       "      <td>3.499794</td>\n",
       "      <td>0.436556</td>\n",
       "    </tr>\n",
       "    <tr>\n",
       "      <th>5</th>\n",
       "      <td>num_cat_origin</td>\n",
       "      <td>model_knn</td>\n",
       "      <td>23.485858</td>\n",
       "      <td>24.558866</td>\n",
       "      <td>-8.916982</td>\n",
       "      <td>4.210116</td>\n",
       "      <td>0.294610</td>\n",
       "    </tr>\n",
       "    <tr>\n",
       "      <th>6</th>\n",
       "      <td>num_cat_origin</td>\n",
       "      <td>model_rf</td>\n",
       "      <td>23.519046</td>\n",
       "      <td>24.517000</td>\n",
       "      <td>-8.883200</td>\n",
       "      <td>2.265601</td>\n",
       "      <td>0.225094</td>\n",
       "    </tr>\n",
       "    <tr>\n",
       "      <th>7</th>\n",
       "      <td>num_cat_origin</td>\n",
       "      <td>model_xgb</td>\n",
       "      <td>23.508895</td>\n",
       "      <td>24.501036</td>\n",
       "      <td>-8.870333</td>\n",
       "      <td>2.373312</td>\n",
       "      <td>0.293590</td>\n",
       "    </tr>\n",
       "    <tr>\n",
       "      <th>8</th>\n",
       "      <td>num_cat_all</td>\n",
       "      <td>model_lin</td>\n",
       "      <td>23.496374</td>\n",
       "      <td>24.517907</td>\n",
       "      <td>-8.883931</td>\n",
       "      <td>3.499794</td>\n",
       "      <td>0.436556</td>\n",
       "    </tr>\n",
       "    <tr>\n",
       "      <th>9</th>\n",
       "      <td>num_cat_all</td>\n",
       "      <td>model_knn</td>\n",
       "      <td>23.485858</td>\n",
       "      <td>24.558866</td>\n",
       "      <td>-8.916982</td>\n",
       "      <td>4.210116</td>\n",
       "      <td>0.294610</td>\n",
       "    </tr>\n",
       "    <tr>\n",
       "      <th>10</th>\n",
       "      <td>num_cat_all</td>\n",
       "      <td>model_rf</td>\n",
       "      <td>23.519046</td>\n",
       "      <td>24.517000</td>\n",
       "      <td>-8.883200</td>\n",
       "      <td>2.265601</td>\n",
       "      <td>0.225094</td>\n",
       "    </tr>\n",
       "    <tr>\n",
       "      <th>11</th>\n",
       "      <td>num_cat_all</td>\n",
       "      <td>model_xgb</td>\n",
       "      <td>23.508895</td>\n",
       "      <td>24.501036</td>\n",
       "      <td>-8.870333</td>\n",
       "      <td>2.373312</td>\n",
       "      <td>0.293590</td>\n",
       "    </tr>\n",
       "    <tr>\n",
       "      <th>12</th>\n",
       "      <td>num_cat_all_LLM</td>\n",
       "      <td>model_lin</td>\n",
       "      <td>23.496374</td>\n",
       "      <td>24.517907</td>\n",
       "      <td>-8.883931</td>\n",
       "      <td>3.499794</td>\n",
       "      <td>0.436556</td>\n",
       "    </tr>\n",
       "    <tr>\n",
       "      <th>13</th>\n",
       "      <td>num_cat_all_LLM</td>\n",
       "      <td>model_knn</td>\n",
       "      <td>23.485858</td>\n",
       "      <td>24.558866</td>\n",
       "      <td>-8.916982</td>\n",
       "      <td>4.210116</td>\n",
       "      <td>0.294610</td>\n",
       "    </tr>\n",
       "    <tr>\n",
       "      <th>14</th>\n",
       "      <td>num_cat_all_LLM</td>\n",
       "      <td>model_rf</td>\n",
       "      <td>23.519046</td>\n",
       "      <td>24.517000</td>\n",
       "      <td>-8.883200</td>\n",
       "      <td>2.265601</td>\n",
       "      <td>0.225094</td>\n",
       "    </tr>\n",
       "    <tr>\n",
       "      <th>15</th>\n",
       "      <td>num_cat_all_LLM</td>\n",
       "      <td>model_xgb</td>\n",
       "      <td>23.508895</td>\n",
       "      <td>24.501036</td>\n",
       "      <td>-8.870333</td>\n",
       "      <td>2.373312</td>\n",
       "      <td>0.293590</td>\n",
       "    </tr>\n",
       "  </tbody>\n",
       "</table>\n",
       "</div>"
      ],
      "text/plain": [
       "               data      model        MAE       RMSE        R2  CV_RMSE_mean  \\\n",
       "0               num  model_lin  23.496374  24.517907 -8.883931      3.499794   \n",
       "1               num  model_knn  23.485858  24.558866 -8.916982      4.210116   \n",
       "2               num   model_rf  23.519046  24.517000 -8.883200      2.265601   \n",
       "3               num  model_xgb  23.508895  24.501036 -8.870333      2.373312   \n",
       "4    num_cat_origin  model_lin  23.496374  24.517907 -8.883931      3.499794   \n",
       "5    num_cat_origin  model_knn  23.485858  24.558866 -8.916982      4.210116   \n",
       "6    num_cat_origin   model_rf  23.519046  24.517000 -8.883200      2.265601   \n",
       "7    num_cat_origin  model_xgb  23.508895  24.501036 -8.870333      2.373312   \n",
       "8       num_cat_all  model_lin  23.496374  24.517907 -8.883931      3.499794   \n",
       "9       num_cat_all  model_knn  23.485858  24.558866 -8.916982      4.210116   \n",
       "10      num_cat_all   model_rf  23.519046  24.517000 -8.883200      2.265601   \n",
       "11      num_cat_all  model_xgb  23.508895  24.501036 -8.870333      2.373312   \n",
       "12  num_cat_all_LLM  model_lin  23.496374  24.517907 -8.883931      3.499794   \n",
       "13  num_cat_all_LLM  model_knn  23.485858  24.558866 -8.916982      4.210116   \n",
       "14  num_cat_all_LLM   model_rf  23.519046  24.517000 -8.883200      2.265601   \n",
       "15  num_cat_all_LLM  model_xgb  23.508895  24.501036 -8.870333      2.373312   \n",
       "\n",
       "    CV_RMSE_std  \n",
       "0      0.436556  \n",
       "1      0.294610  \n",
       "2      0.225094  \n",
       "3      0.293590  \n",
       "4      0.436556  \n",
       "5      0.294610  \n",
       "6      0.225094  \n",
       "7      0.293590  \n",
       "8      0.436556  \n",
       "9      0.294610  \n",
       "10     0.225094  \n",
       "11     0.293590  \n",
       "12     0.436556  \n",
       "13     0.294610  \n",
       "14     0.225094  \n",
       "15     0.293590  "
      ]
     },
     "execution_count": 37,
     "metadata": {},
     "output_type": "execute_result"
    }
   ],
   "source": [
    "# metryki (MAE, RMSE, R²)\n",
    "# Walidacja krzyżowa\n",
    "\n",
    "metrics = []\n",
    "cv = KFold(n_splits=5, shuffle=True, random_state=0)\n",
    "\n",
    "for data_idx, data in enumerate(data_names):\n",
    "\n",
    "    df = pd.read_csv(data_file_names[data_idx])   \n",
    "    X_train, X_test, y_train, y_test = train_test_split(X, y, test_size=0.2, random_state=0)\n",
    "\n",
    "    for model, model_name in zip(models, models_names):\n",
    "        y_pred_test = model.predict(X_test)\n",
    "        # neg_root_mean_squared_error => po odwróceniu będzie RMSE\n",
    "        scores = cross_val_score(model, X, y, cv=cv,\n",
    "                                 scoring=\"neg_root_mean_squared_error\",\n",
    "                                 n_jobs=-1)\n",
    "        metrics.append({\n",
    "            \"data\":  data,\n",
    "            \"model\": model_name,\n",
    "            \"MAE\":   mean_absolute_error(y_test, y_pred_test),\n",
    "            \"RMSE\":  np.sqrt(mean_squared_error(y_test, y_pred_test)),\n",
    "            \"R2\":    r2_score(y_test, y_pred_test),\n",
    "            \"CV_RMSE_mean\": -scores.mean(),\n",
    "            \"CV_RMSE_std\":  scores.std()\n",
    "        })\n",
    "\n",
    "metrics_df = pd.DataFrame(metrics)\n",
    "metrics_df"
   ]
  },
  {
   "cell_type": "code",
   "execution_count": null,
   "id": "ba5a3b89",
   "metadata": {},
   "outputs": [],
   "source": []
  },
  {
   "cell_type": "markdown",
   "id": "60e18735",
   "metadata": {},
   "source": [
    "## TODO do usunięcia, notatka robocza\n",
    "\n",
    "* **MAE (Mean Absolute Error)** — „średni błąd bezwzględny”; intuicyjnie „o ile mpg średnio się mylę”.\n",
    "* **RMSE** — podkreśla duże błędy (błąd kwadratowy, a potem pierwiastek).\n",
    "* **R²** — od 0 do 1: ile wariancji wyjaśniamy.  "
   ]
  },
  {
   "cell_type": "code",
   "execution_count": 32,
   "id": "92bf4ed8",
   "metadata": {},
   "outputs": [
    {
     "data": {
      "application/vnd.microsoft.datawrangler.viewer.v0+json": {
       "columns": [
        {
         "name": "index",
         "rawType": "int64",
         "type": "integer"
        },
        {
         "name": "data",
         "rawType": "object",
         "type": "string"
        },
        {
         "name": "best_RMSE",
         "rawType": "float64",
         "type": "float"
        },
        {
         "name": "best_params",
         "rawType": "object",
         "type": "unknown"
        }
       ],
       "ref": "f62b808d-67c7-44c6-9e87-025301fad453",
       "rows": [
        [
         "0",
         "num",
         "2.6081244246877824",
         "{'max_depth': 10, 'max_features': None, 'n_estimators': 288}"
        ],
        [
         "1",
         "num_cat_origin",
         "2.1618542943752255",
         "{'max_depth': 20, 'max_features': None, 'n_estimators': 488}"
        ],
        [
         "2",
         "num_cat_all",
         "2.248964311813787",
         "{'max_depth': 20, 'max_features': None, 'n_estimators': 488}"
        ],
        [
         "3",
         "num_cat_all_LLM",
         "2.2469767738837874",
         "{'max_depth': 20, 'max_features': None, 'n_estimators': 488}"
        ]
       ],
       "shape": {
        "columns": 3,
        "rows": 4
       }
      },
      "text/html": [
       "<div>\n",
       "<style scoped>\n",
       "    .dataframe tbody tr th:only-of-type {\n",
       "        vertical-align: middle;\n",
       "    }\n",
       "\n",
       "    .dataframe tbody tr th {\n",
       "        vertical-align: top;\n",
       "    }\n",
       "\n",
       "    .dataframe thead th {\n",
       "        text-align: right;\n",
       "    }\n",
       "</style>\n",
       "<table border=\"1\" class=\"dataframe\">\n",
       "  <thead>\n",
       "    <tr style=\"text-align: right;\">\n",
       "      <th></th>\n",
       "      <th>data</th>\n",
       "      <th>best_RMSE</th>\n",
       "      <th>best_params</th>\n",
       "    </tr>\n",
       "  </thead>\n",
       "  <tbody>\n",
       "    <tr>\n",
       "      <th>0</th>\n",
       "      <td>num</td>\n",
       "      <td>2.608124</td>\n",
       "      <td>{'max_depth': 10, 'max_features': None, 'n_est...</td>\n",
       "    </tr>\n",
       "    <tr>\n",
       "      <th>1</th>\n",
       "      <td>num_cat_origin</td>\n",
       "      <td>2.161854</td>\n",
       "      <td>{'max_depth': 20, 'max_features': None, 'n_est...</td>\n",
       "    </tr>\n",
       "    <tr>\n",
       "      <th>2</th>\n",
       "      <td>num_cat_all</td>\n",
       "      <td>2.248964</td>\n",
       "      <td>{'max_depth': 20, 'max_features': None, 'n_est...</td>\n",
       "    </tr>\n",
       "    <tr>\n",
       "      <th>3</th>\n",
       "      <td>num_cat_all_LLM</td>\n",
       "      <td>2.246977</td>\n",
       "      <td>{'max_depth': 20, 'max_features': None, 'n_est...</td>\n",
       "    </tr>\n",
       "  </tbody>\n",
       "</table>\n",
       "</div>"
      ],
      "text/plain": [
       "              data  best_RMSE  \\\n",
       "0              num   2.608124   \n",
       "1   num_cat_origin   2.161854   \n",
       "2      num_cat_all   2.248964   \n",
       "3  num_cat_all_LLM   2.246977   \n",
       "\n",
       "                                         best_params  \n",
       "0  {'max_depth': 10, 'max_features': None, 'n_est...  \n",
       "1  {'max_depth': 20, 'max_features': None, 'n_est...  \n",
       "2  {'max_depth': 20, 'max_features': None, 'n_est...  \n",
       "3  {'max_depth': 20, 'max_features': None, 'n_est...  "
      ]
     },
     "execution_count": 32,
     "metadata": {},
     "output_type": "execute_result"
    }
   ],
   "source": [
    "rf_tuned_rows = []\n",
    "\n",
    "param_dist = {\n",
    "    \"n_estimators\": randint(200, 600),\n",
    "    \"max_depth\":   [None, 5, 10, 20],\n",
    "    \"max_features\": [\"sqrt\", \"log2\", None]\n",
    "}\n",
    "\n",
    "for data_idx, data in enumerate(data_names):\n",
    "    df = pd.read_csv(data_file_names[data_idx])\n",
    "    X_no_scaler = df.drop(columns=['name', 'mpg']).values\n",
    "    X = StandardScaler().fit_transform(X_no_scaler)\n",
    "    y = df['mpg'].values\n",
    "\n",
    "    rf_base = models[models_names.index(\"model_rf\")]  # Twój RandomForestRegressor\n",
    "\n",
    "    search = RandomizedSearchCV(\n",
    "        rf_base, param_dist, n_iter=15,\n",
    "        scoring=\"neg_root_mean_squared_error\",\n",
    "        cv=cv, random_state=0, n_jobs=-1\n",
    "    )\n",
    "    search.fit(X, y)\n",
    "\n",
    "    rf_tuned_rows.append({\n",
    "        \"data\": data,\n",
    "        \"best_RMSE\": -search.best_score_,\n",
    "        \"best_params\": search.best_params_\n",
    "    })\n",
    "\n",
    "rf_tuned_df = pd.DataFrame(rf_tuned_rows)\n",
    "rf_tuned_df"
   ]
  },
  {
   "cell_type": "code",
   "execution_count": 34,
   "id": "dfe28db2",
   "metadata": {},
   "outputs": [
    {
     "data": {
      "image/png": "[encoded data removed]",
      "text/plain": [
       "<Figure size 640x480 with 1 Axes>"
      ]
     },
     "metadata": {},
     "output_type": "display_data"
    },
    {
     "data": {
      "image/png": "[encoded data removed]",
      "text/plain": [
       "<Figure size 640x480 with 1 Axes>"
      ]
     },
     "metadata": {},
     "output_type": "display_data"
    },
    {
     "data": {
      "image/png": "[encoded data removed]",
      "text/plain": [
       "<Figure size 640x480 with 1 Axes>"
      ]
     },
     "metadata": {},
     "output_type": "display_data"
    }
   ],
   "source": [
    "# 1. znajdź najlepszy wiersz\n",
    "best_row = rf_tuned_df.loc[rf_tuned_df['best_RMSE'].idxmin()]\n",
    "best_data = best_row['data']\n",
    "best_params = best_row['best_params']\n",
    "\n",
    "# 2. wczytaj odpowiadający zbiór\n",
    "df_best = pd.read_csv(data_file_names[data_names.index(best_data)])\n",
    "X_best = StandardScaler().fit_transform(df_best.drop(columns=['name', 'mpg']).values)\n",
    "y_best = df_best['mpg'].values\n",
    "\n",
    "# 3. trenuj best RF\n",
    "from sklearn.ensemble import RandomForestRegressor\n",
    "best_rf = RandomForestRegressor(random_state=0, **best_params)\n",
    "X_tr, X_te, y_tr, y_te = train_test_split(X_best, y_best, test_size=0.2, random_state=0)\n",
    "best_rf.fit(X_tr, y_tr)\n",
    "y_pred_te = best_rf.predict(X_te)\n",
    "\n",
    "# --- wykresy ---\n",
    "sns.scatterplot(x=y_te, y=y_pred_te)\n",
    "plt.plot([y_te.min(), y_te.max()],[y_te.min(), y_te.max()],\"--\")\n",
    "plt.xlabel(\"True MPG\"); plt.ylabel(\"Pred MPG\"); plt.title(f\"Best RF – {best_data}\")\n",
    "plt.show()\n",
    "\n",
    "sns.residplot(x=y_te, y=y_pred_te,  line_kws={\"color\":\"red\"})\n",
    "plt.title(\"Residuals\")\n",
    "plt.show()\n",
    "\n",
    "# feature importance\n",
    "importances = pd.Series(best_rf.feature_importances_,\n",
    "                        index=df_best.drop(columns=['name', 'mpg']).columns)\n",
    "importances.nlargest(10).plot.barh(); plt.title(\"Top-10 cech\"); plt.show()"
   ]
  }
 ],
 "metadata": {
  "kernelspec": {
   "display_name": "Python 3",
   "language": "python",
   "name": "python3"
  },
  "language_info": {
   "codemirror_mode": {
    "name": "ipython",
    "version": 3
   },
   "file_extension": ".py",
   "mimetype": "text/x-python",
   "name": "python",
   "nbconvert_exporter": "python",
   "pygments_lexer": "ipython3",
   "version": "3.13.5"
  }
 },
 "nbformat": 4,
 "nbformat_minor": 5
}
